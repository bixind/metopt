{
 "cells": [
  {
   "cell_type": "markdown",
   "metadata": {},
   "source": [
    "## 1. Cucumbers and onions"
   ]
  },
  {
   "cell_type": "code",
   "execution_count": 39,
   "metadata": {},
   "outputs": [],
   "source": [
    "from cvxopt import matrix, solvers\n",
    "import numpy as np"
   ]
  },
  {
   "cell_type": "code",
   "execution_count": 28,
   "metadata": {},
   "outputs": [
    {
     "name": "stdout",
     "output_type": "stream",
     "text": [
      "     pcost       dcost       gap    pres   dres   k/t\n",
      " 0: -2.0538e+01 -4.8231e+01  1e+01  0e+00  9e-01  1e+00\n",
      " 1: -2.1458e+01 -2.4049e+01  9e-01  7e-17  8e-02  8e-02\n",
      " 2: -2.1993e+01 -2.2046e+01  2e-02  4e-16  2e-03  2e-03\n",
      " 3: -2.2000e+01 -2.2000e+01  2e-04  2e-16  2e-05  2e-05\n",
      " 4: -2.2000e+01 -2.2000e+01  2e-06  2e-16  2e-07  2e-07\n",
      " 5: -2.2000e+01 -2.2000e+01  2e-08  8e-17  2e-09  2e-09\n",
      "Optimal solution found.\n",
      "Cucumbers area:  2.9999999970992466\n",
      "Onions area:  2.0000000009967276\n",
      "Total weight:  21.999999993380623\n"
     ]
    }
   ],
   "source": [
    "c = matrix([-4, -5], tc='d')\n",
    "G = matrix([\n",
    "    [2, 1, 0, -1, 0],\n",
    "    [1, 2, 1, 0, -1]\n",
    "], tc='d')\n",
    "h = matrix(\n",
    "    [8, 7, 3, 0, 0]\n",
    ", tc = 'd')\n",
    "sol = solvers.lp(c, G, h)\n",
    "print('Cucumbers area: ', sol['x'][0])\n",
    "print('Onions area: ', sol['x'][1])\n",
    "print('Total weight: ', -sol['primal objective'])"
   ]
  },
  {
   "cell_type": "markdown",
   "metadata": {},
   "source": [
    "Всё правильно."
   ]
  },
  {
   "cell_type": "markdown",
   "metadata": {},
   "source": [
    "## 2. German vines"
   ]
  },
  {
   "cell_type": "code",
   "execution_count": 37,
   "metadata": {},
   "outputs": [
    {
     "name": "stdout",
     "output_type": "stream",
     "text": [
      "     pcost       dcost       gap    pres   dres   k/t\n",
      " 0: -1.7537e+03 -4.6124e+03  1e+03  1e-01  1e+00  1e+00\n",
      " 1: -1.9002e+03 -3.3677e+03  6e+02  6e-02  7e-01  1e+01\n",
      " 2: -2.0503e+03 -3.6352e+03  9e+02  7e-02  8e-01  4e+01\n",
      " 3: -2.1014e+03 -2.1512e+03  2e+01  2e-03  3e-02  3e+00\n",
      " 4: -2.1000e+03 -2.1005e+03  2e-01  2e-05  3e-04  3e-02\n",
      " 5: -2.1000e+03 -2.1000e+03  2e-03  2e-07  3e-06  3e-04\n",
      " 6: -2.1000e+03 -2.1000e+03  2e-05  2e-09  3e-08  3e-06\n",
      "Optimal solution found.\n",
      "Heidelberg sweet: -0.00 units\n",
      "Heidelberg regular: 50.00 units\n",
      "Deutschl. extra dry : 75.00 units\n",
      "Total profit:  2100.0000013111744\n"
     ]
    }
   ],
   "source": [
    "c = matrix([-10, -12, -20], tc='d')\n",
    "G = matrix([\n",
    "    [1, 1, 2, 2, -1, 0, 0],\n",
    "    [2, 0, 1, 3, 0, -1, 0],\n",
    "    [0, 2, 0, 1, 0, 0, -1],\n",
    "], tc='d')\n",
    "h = matrix(\n",
    "    [150, 150, 80, 225, 0, 0, 0]\n",
    ", tc = 'd')\n",
    "sol = solvers.lp(c, G, h)\n",
    "print(\"Heidelberg sweet: {:.2f} units\".format(sol['x'][0]))\n",
    "print(\"Heidelberg regular: {:.2f} units\".format(sol['x'][1]))\n",
    "print(\"Deutschl. extra dry : {:.2f} units\".format(sol['x'][2]))\n",
    "print('Total profit: ', -sol['primal objective'])"
   ]
  },
  {
   "cell_type": "markdown",
   "metadata": {},
   "source": [
    "Всё правильно"
   ]
  },
  {
   "cell_type": "markdown",
   "metadata": {},
   "source": [
    "## 3. Perfumes"
   ]
  },
  {
   "cell_type": "code",
   "execution_count": 38,
   "metadata": {},
   "outputs": [
    {
     "name": "stdout",
     "output_type": "stream",
     "text": [
      "     pcost       dcost       gap    pres   dres   k/t\n",
      " 0: -3.2476e+03 -5.2784e+03  7e+02  0e+00  4e-01  1e+00\n",
      " 1: -3.5884e+03 -3.8092e+03  6e+01  2e-16  5e-02  4e+00\n",
      " 2: -3.5999e+03 -3.6022e+03  6e-01  2e-16  5e-04  4e-02\n",
      " 3: -3.6000e+03 -3.6000e+03  6e-03  3e-16  5e-06  4e-04\n",
      " 4: -3.6000e+03 -3.6000e+03  6e-05  2e-16  5e-08  4e-06\n",
      "Optimal solution found.\n",
      "Perfume 1: 2.00 liters\n",
      "Perfume 2: 6.00 liters\n",
      "Total profit:  3599.999987339188\n"
     ]
    }
   ],
   "source": [
    "c = matrix([-300, -500], tc='d')\n",
    "G = matrix([\n",
    "    [1, 0, 3, -1, 0],\n",
    "    [0, 2, 2, 0, -1],\n",
    "], tc='d')\n",
    "h = matrix(\n",
    "    [4, 12, 18, 0, 0]\n",
    ", tc = 'd')\n",
    "sol = solvers.lp(c, G, h)\n",
    "print(\"Perfume 1: {:.2f} liters\".format(sol['x'][0]))\n",
    "print(\"Perfume 2: {:.2f} liters\".format(sol['x'][1]))\n",
    "print('Total profit: ', -sol['primal objective'])"
   ]
  },
  {
   "cell_type": "markdown",
   "metadata": {},
   "source": [
    "Всё правильно"
   ]
  },
  {
   "cell_type": "markdown",
   "metadata": {},
   "source": [
    "## 4. Dairy products"
   ]
  },
  {
   "cell_type": "code",
   "execution_count": 59,
   "metadata": {},
   "outputs": [
    {
     "name": "stdout",
     "output_type": "stream",
     "text": [
      "     pcost       dcost       gap    pres   dres   k/t\n",
      " 0: -1.7663e+04 -7.7710e+04  8e+03  2e-02  4e+00  1e+00\n",
      " 1: -1.7723e+04 -2.6024e+04  8e+02  3e-03  5e-01  1e+01\n",
      " 2: -1.7881e+04 -2.0136e+04  2e+02  9e-04  1e-01  5e+00\n",
      " 3: -1.7977e+04 -2.1775e+04  7e+02  1e-03  2e-01  2e+01\n",
      " 4: -1.8030e+04 -2.0442e+04  4e+02  9e-04  1e-01  1e+01\n",
      " 5: -1.8093e+04 -2.0148e+04  4e+02  8e-04  1e-01  2e+01\n",
      " 6: -1.8180e+04 -1.8380e+04  4e+01  8e-05  1e-02  2e+00\n",
      " 7: -1.8187e+04 -1.8190e+04  4e-01  8e-07  1e-04  2e-02\n",
      " 8: -1.8187e+04 -1.8188e+04  4e-03  8e-09  1e-06  2e-04\n",
      " 9: -1.8187e+04 -1.8188e+04  4e-05  8e-11  1e-08  2e-06\n",
      "Optimal solution found.\n",
      "Abondance: 250.00 units\n",
      "Beaufort: -0.00 units\n",
      "Reblochon: 875.00 units\n",
      "Milk left: 250.00 liters\n",
      "Total profit:  18187.49999225684\n"
     ]
    }
   ],
   "source": [
    "c = matrix([-20, -25, -15, -0.25, -0.25, -0.25], tc='d')\n",
    "G = np.array([\n",
    "    [5, 3, 2, 15],\n",
    "    [5, 0, 5, 30],\n",
    "    [2, 0, 4, 10],\n",
    "    [1, 0, 0, 0],\n",
    "    [0, 1, 0, 0],\n",
    "    [0, 0, 1, 0],\n",
    "], dtype='float64')\n",
    "G = np.concatenate((G, -np.eye(6)), axis=1)\n",
    "h = np.array(\n",
    "    [3000, 1000, 4000, 250 * 60]\n",
    ", dtype='float64')\n",
    "h = np.concatenate((h, np.zeros(6)))\n",
    "sol = solvers.lp(c, matrix(G.T), matrix(h))\n",
    "print(\"Abondance: {:.2f} units\".format(sol['x'][0]))\n",
    "print(\"Beaufort: {:.2f} units\".format(sol['x'][1]))\n",
    "print(\"Reblochon: {:.2f} units\".format(sol['x'][2]))\n",
    "print(\"Milk left: {:.2f} liters\".format(sol['x'][3] + sol['x'][4] + sol['x'][5]))\n",
    "print('Total profit: ', -sol['primal objective'])"
   ]
  },
  {
   "cell_type": "markdown",
   "metadata": {},
   "source": [
    "Всё правильно, всё молоко первого вида используется на сыр."
   ]
  },
  {
   "cell_type": "markdown",
   "metadata": {},
   "source": [
    "## 5. Apples"
   ]
  },
  {
   "cell_type": "markdown",
   "metadata": {},
   "source": [
    "Смысл переменных:\n",
    "- 1) Яблоки, купленные на сок\n",
    "- 2) Яблоки, купленные на сидр\n",
    "- 3) Всего сока из яблок\n",
    "- 4) Сколько сока перевели на сидр\n",
    "- 5) Всего сидра (из яблок и сока)\n",
    "- 6) Сколько сидра перевели в Кальвадос\n",
    "- 7) Продано сока\n",
    "- 8) Продано сидра\n",
    "- 9) Продано кальвадоса"
   ]
  },
  {
   "cell_type": "code",
   "execution_count": 66,
   "metadata": {},
   "outputs": [
    {
     "name": "stdout",
     "output_type": "stream",
     "text": [
      "     pcost       dcost       gap    pres   dres   k/t\n",
      " 0: -1.0114e+04 -4.0844e+04  9e+04  5e-01  1e+00  1e+00\n",
      " 1: -5.3685e+03 -9.9959e+03  1e+04  8e-02  2e-01  2e+02\n",
      " 2: -6.9284e+03 -9.9176e+03  9e+03  6e-02  1e-01  2e+02\n",
      " 3: -9.5642e+03 -1.6090e+04  6e+04  1e-01  3e-01  1e+03\n",
      " 4: -2.1152e+04 -2.4353e+04  8e+04  8e-02  2e-01  2e+03\n",
      " 5: -1.0774e+04 -1.2994e+04  4e+04  6e-02  1e-01  9e+02\n",
      " 6: -1.3215e+04 -1.4849e+04  3e+04  4e-02  9e-02  8e+02\n",
      " 7: -1.1463e+04 -1.1849e+04  6e+03  9e-03  2e-02  1e+02\n",
      " 8: -1.1201e+04 -1.1278e+04  1e+03  2e-03  4e-03  3e+01\n",
      " 9: -1.1006e+04 -1.1008e+04  3e+01  5e-05  1e-04  7e-01\n",
      "10: -1.1000e+04 -1.1000e+04  3e-01  5e-07  1e-06  7e-03\n",
      "11: -1.1000e+04 -1.1000e+04  3e-03  5e-09  1e-08  7e-05\n",
      "Optimal solution found.\n",
      "[ 1.67e+01]\n",
      "[-3.58e-06]\n",
      "[ 8.33e+03]\n",
      "[ 3.33e+03]\n",
      "[ 2.00e+03]\n",
      "[-2.86e-06]\n",
      "[ 5.00e+03]\n",
      "[ 2.00e+03]\n",
      "[-4.81e-07]\n",
      "\n",
      "Apples total: 16.67 units\n",
      "Apples for cider: -0.00 units\n",
      "Juice sold: 5000.00 units\n",
      "Cider sold: 2000.00 units\n",
      "Calvados sold: -0.00 units\n",
      "Total profit:  11000.000557007388\n"
     ]
    }
   ],
   "source": [
    "G = np.array([\n",
    "    [-500,    0,    1,    0,    0,    0,    0,    0,    0],\n",
    "    [   0,    0,   -1,    1,    0,    0,    1,    0,    0],\n",
    "    [   0, -250,    0, -0.6,    1,    0,    0,    0,    0],\n",
    "    [   0,    0,    0,    0,   -1,    1,    0,    1,    0],\n",
    "    [   0,    0,    0,    0,    0, -0.4,    0,    0,    1],\n",
    "    [   0,    0,    0,    0,    0,    0,    1,    0,    0],\n",
    "    [   0,    0,    0,    0,    0,    0,    0,    1,    0],\n",
    "    [   0,    0,    0,    0,    0,    0,    0,    0,    1],\n",
    "], dtype='float64')\n",
    "G = np.concatenate((G, -np.eye(9)), axis=0)\n",
    "\n",
    "h = np.array(\n",
    "    [0, 0, 0, 0, 0, 5000, 2000, 500]\n",
    ", dtype='float64')\n",
    "h = np.concatenate((h, np.zeros(9)))\n",
    "\n",
    "c = np.array(\n",
    "    [1500, 1500, 0, 0, 0, 0, -4, -8, -10]\n",
    ", dtype='float64')\n",
    "\n",
    "sol = solvers.lp(matrix(c), matrix(G), matrix(h))\n",
    "print(sol['x'])\n",
    "print(\"Apples total: {:.2f} units\".format(sol['x'][0] + sol['x'][1]))\n",
    "print(\"Apples for cider: {:.2f} units\".format(sol['x'][1]))\n",
    "print(\"Juice sold: {:.2f} units\".format(sol['x'][6]))\n",
    "print(\"Cider sold: {:.2f} units\".format(sol['x'][7]))\n",
    "print(\"Calvados sold: {:.2f} units\".format(sol['x'][8]))\n",
    "# print(\"Beaufort: {:.2f} units\".format(sol['x'][1]))\n",
    "# print(\"Reblochon: {:.2f} units\".format(sol['x'][2]))\n",
    "# print(\"Milk left: {:.2f} liters\".format(sol['x'][3] + sol['x'][4] + sol['x'][5]))\n",
    "print('Total profit: ', -sol['primal objective'])"
   ]
  },
  {
   "cell_type": "markdown",
   "metadata": {},
   "source": [
    "Действительно, производить Кальвадос невыгодно, а сидр выгодно производить из сока."
   ]
  },
  {
   "cell_type": "markdown",
   "metadata": {},
   "source": [
    "## 6. Production of wines with external data"
   ]
  },
  {
   "cell_type": "code",
   "execution_count": 72,
   "metadata": {
    "collapsed": true
   },
   "outputs": [],
   "source": [
    "n = 2;\n",
    "m = 3;\n",
    "cost = [7.0, 5.0];\n",
    "stock = [5000.0, 1000.0, 4000.0];\n",
    "proportion = [[30,50],\n",
    "              [20,10],\n",
    "              [50,40]];\n",
    "demand = [1000.0, 1000.0];\n",
    "value = 1.0;"
   ]
  },
  {
   "cell_type": "markdown",
   "metadata": {},
   "source": [
    "Пусть переменные $x_1, \\ldots, x_n$ --- количество проданных литров для каждого вида вина,\n",
    "а $x_{n + 1}, \\ldots, x_{n + m}$ --- количество проданных литров каждого сорта винограда."
   ]
  },
  {
   "cell_type": "code",
   "execution_count": 90,
   "metadata": {},
   "outputs": [
    {
     "name": "stdout",
     "output_type": "stream",
     "text": [
      "     pcost       dcost       gap    pres   dres   k/t\n",
      " 0: -1.8607e+04 -4.9134e+04  4e+04  0e+00  6e-01  1e+00\n",
      " 1: -3.7876e+04 -6.7404e+04  5e+04  1e-16  6e-01  1e+03\n",
      " 2: -3.8420e+04 -4.4683e+04  1e+04  2e-16  1e-01  6e+02\n",
      " 3: -4.5974e+04 -4.7768e+04  4e+03  4e-16  4e-02  4e+02\n",
      " 4: -4.7846e+04 -4.8042e+04  5e+02  1e-16  5e-03  4e+01\n",
      " 5: -4.7997e+04 -4.8000e+04  7e+00  4e-16  7e-05  6e-01\n",
      " 6: -4.8000e+04 -4.8000e+04  7e-02  7e-16  7e-07  6e-03\n",
      " 7: -4.8000e+04 -4.8000e+04  7e-04  2e-16  7e-09  6e-05\n",
      "Optimal solution found.\n",
      "Wine 1: 1000.00 units\n",
      "Wine 2: 8000.00 units\n",
      "Grape 1 sold: 700.00\n",
      "Grape 2 sold: 0.00\n",
      "Grape 3 sold: 300.00\n",
      "Total profit: 48000.00\n"
     ]
    }
   ],
   "source": [
    "percentage = np.array(proportion) / 100\n",
    "G = np.concatenate((percentage.T, np.eye(m)), axis=0).T\n",
    "demand_ineq = np.concatenate((-np.eye(n), np.zeros((n, m))), axis=1)\n",
    "G = np.concatenate((G, demand_ineq))\n",
    "G = np.concatenate((G, -np.eye(n + m)))\n",
    "\n",
    "h = np.concatenate((\n",
    "    np.array(stock),\n",
    "    -np.array(demand),\n",
    "    np.zeros(n + m)\n",
    "))\n",
    "\n",
    "c = np.concatenate((\n",
    "    -np.array(cost),\n",
    "    -value * np.ones(m)\n",
    "))\n",
    "\n",
    "sol = solvers.lp(matrix(c), matrix(G), matrix(h))\n",
    "\n",
    "for i in range(n):\n",
    "    print(\"Wine {}: {:.2f} units\".format(i + 1, sol['x'][i]))\n",
    "for i in range(m):\n",
    "    print('Grape {} sold: {:.2f}'.format(i + 1, sol['x'][n + i]))\n",
    "print('Total profit: {:.2f}'.format(-sol['primal objective']))"
   ]
  },
  {
   "cell_type": "markdown",
   "metadata": {},
   "source": [
    "## 7. Bill Of Materials"
   ]
  },
  {
   "cell_type": "markdown",
   "metadata": {},
   "source": [
    "Пусть переменные $x_1, x_2$ отвечают за число произведённых товаров $Q, P$, \n",
    "а $x_3, x_4, x_5$ --- число купленных товаров $MP1, MP2, MP3$."
   ]
  },
  {
   "cell_type": "code",
   "execution_count": 108,
   "metadata": {
    "collapsed": true
   },
   "outputs": [],
   "source": [
    "cost = [90, 100, -5, -20, -20];\n",
    "time = [[0,    0,  15,  15],\n",
    "        [0,   15,   0,    5],\n",
    "        [15,   0,   0,    0],\n",
    "        [0,   15,   0,    0],\n",
    "        [0,    0,   5,    0]];"
   ]
  },
  {
   "cell_type": "code",
   "execution_count": 109,
   "metadata": {},
   "outputs": [
    {
     "name": "stdout",
     "output_type": "stream",
     "text": [
      "     pcost       dcost       gap    pres   dres   k/t\n",
      " 0: -1.3075e+04 -1.2289e+05  3e+04  1e-01  4e+00  1e+00\n",
      " 1: -6.5453e+03 -2.0555e+05  2e+05  2e-01  7e+00  3e+03\n",
      " 2: -7.5079e+03 -3.8021e+04  1e+04  3e-02  1e+00  3e+03\n",
      " 3: -6.2821e+03 -1.0220e+04  9e+02  4e-03  1e-01  3e+02\n",
      " 4: -6.3640e+03 -8.2463e+03  6e+02  2e-03  7e-02  1e+02\n",
      " 5: -6.2902e+03 -6.5380e+03  9e+01  2e-04  8e-03  5e+00\n",
      " 6: -6.2999e+03 -6.3027e+03  1e+00  3e-06  9e-05  5e-02\n",
      " 7: -6.3000e+03 -6.3000e+03  1e-02  3e-08  9e-07  5e-04\n",
      " 8: -6.3000e+03 -6.3000e+03  1e-04  3e-10  9e-09  5e-06\n",
      "Optimal solution found.\n",
      "P: 100.00 units\n",
      "Q: 30.00 units\n",
      "MP1: 100.00 units\n",
      "MP2: 130.00 units\n",
      "MP3: 130.00 units\n",
      "Total profit: 6300.00\n"
     ]
    }
   ],
   "source": [
    "c = -np.array(cost, dtype='float64')\n",
    "\n",
    "G = np.array(time, dtype='float64').T\n",
    "dependancy = np.array([\n",
    "    [1, 0, 0, 0, 0],\n",
    "    [0, 1, 0, 0, 0],\n",
    "    [1, 0, -1, 0, 0],\n",
    "    [1, 1, 0, -1, 0],\n",
    "    [1, 1, 0, 0, -1],\n",
    "], dtype='float64')\n",
    "G = np.concatenate((G, dependancy))\n",
    "G = np.concatenate((G, -np.eye(5)))\n",
    "\n",
    "h = np.array([\n",
    "    40 * 60, 40 * 60, 40 * 60, 40 * 60, 100, 50\n",
    "], dtype='float64')\n",
    "h = np.concatenate((h, np.zeros(3 + 5)))\n",
    "\n",
    "sol = solvers.lp(matrix(c), matrix(G), matrix(h))\n",
    "print(\"P: {:.2f} units\".format(sol['x'][0]))\n",
    "print(\"Q: {:.2f} units\".format(sol['x'][1]))\n",
    "for i in range(3):\n",
    "    print('MP{}: {:.2f} units'.format(i + 1, sol['x'][2 + i]))\n",
    "print('Total profit: {:.2f}'.format(-sol['primal objective']))"
   ]
  },
  {
   "cell_type": "code",
   "execution_count": null,
   "metadata": {
    "collapsed": true
   },
   "outputs": [],
   "source": []
  }
 ],
 "metadata": {
  "kernelspec": {
   "display_name": "Python 3",
   "language": "python",
   "name": "python3"
  },
  "language_info": {
   "codemirror_mode": {
    "name": "ipython",
    "version": 3
   },
   "file_extension": ".py",
   "mimetype": "text/x-python",
   "name": "python",
   "nbconvert_exporter": "python",
   "pygments_lexer": "ipython3",
   "version": "3.6.3"
  }
 },
 "nbformat": 4,
 "nbformat_minor": 2
}
